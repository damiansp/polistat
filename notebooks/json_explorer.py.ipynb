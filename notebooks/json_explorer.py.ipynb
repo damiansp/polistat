{
 "cells": [
  {
   "cell_type": "code",
   "execution_count": 4,
   "metadata": {},
   "outputs": [],
   "source": [
    "from datetime import datetime\n",
    "import json\n",
    "from pprint import pprint\n",
    "import sys\n",
    "\n",
    "sys.path.append('..')\n",
    "\n",
    "from votesmart import APIHandler"
   ]
  },
  {
   "cell_type": "code",
   "execution_count": 5,
   "metadata": {},
   "outputs": [],
   "source": [
    "DATA = '../data'\n",
    "CONFIG = '../config'\n",
    "DATE = datetime.now()\n",
    "YEAR = DATE.year"
   ]
  },
  {
   "cell_type": "code",
   "execution_count": 6,
   "metadata": {},
   "outputs": [],
   "source": [
    "def init_vs():\n",
    "    with open(f'{CONFIG}/keys.json') as f:\n",
    "        keys = json.load(f)\n",
    "    votesmart_api_key = keys['votesmart']['APIKey']\n",
    "    vs = APIHandler(votesmart_api_key)\n",
    "    return vs"
   ]
  },
  {
   "cell_type": "code",
   "execution_count": 7,
   "metadata": {},
   "outputs": [
    {
     "name": "stdout",
     "output_type": "stream",
     "text": [
      "Getting current senator data...\n",
      "  candidateId firstName nickName middleName preferredName   lastName suffix  \\\n",
      "0       53273    Dianne                            Dianne  Feinstein          \n",
      "0      120012    Kamala                  D.        Kamala     Harris          \n",
      "0       53298     Mitch                             Mitch  McConnell          \n",
      "0      117285      Rand                              Rand       Paul          \n",
      "0       23644   Jeffery     Jeff         A.          Jeff    Merkley          \n",
      "\n",
      "     title        ballotName electionParties  ... officeParties officeStatus  \\\n",
      "0  Senator                                    ...    Democratic       active   \n",
      "0  Senator  Kamala D. Harris      Democratic  ...    Democratic       active   \n",
      "0  Senator                                    ...    Republican       active   \n",
      "0  Senator                                    ...    Republican       active   \n",
      "0  Senator                                    ...    Democratic       active   \n",
      "\n",
      "  officeDistrictId officeDistrictName officeStateId officeId   officeName  \\\n",
      "0            20496                 Sr            CA        6  U.S. Senate   \n",
      "0            20446                 Jr            CA        6  U.S. Senate   \n",
      "0            20508                 Sr            KY        6  U.S. Senate   \n",
      "0            20458                 Jr            KY        6  U.S. Senate   \n",
      "0            20478                 Jr            OR        6  U.S. Senate   \n",
      "\n",
      "  officeTypeId runningMateId runningMateName  \n",
      "0            C                                \n",
      "0            C                                \n",
      "0            C                                \n",
      "0            C                                \n",
      "0            C                                \n",
      "\n",
      "[5 rows x 31 columns]\n",
      "Saving senator data...\n",
      "Getting senator bios...\n",
      "  for senator with ID: 53273...\n",
      "  for senator with ID: 120012...\n",
      "  for senator with ID: 53298...\n",
      "  for senator with ID: 117285...\n",
      "  for senator with ID: 23644...\n",
      "  for senator with ID: 27036...\n"
     ]
    }
   ],
   "source": [
    "vs = init_vs()\n",
    "senators_df = vs.get_current_senators('df')\n",
    "print(senators_df.head())\n",
    "print('Saving senator data...')\n",
    "senators_df.to_csv(f'{DATA}/senators_{YEAR}.csv', index=False)\n",
    "senator_bios = vs.get_senator_bios()"
   ]
  },
  {
   "cell_type": "code",
   "execution_count": 8,
   "metadata": {},
   "outputs": [
    {
     "data": {
      "text/plain": [
       "dict_keys(['bio'])"
      ]
     },
     "execution_count": 8,
     "metadata": {},
     "output_type": "execute_result"
    }
   ],
   "source": [
    "MITCH_ID = '53298'\n",
    "mitch = senator_bios[MITCH_ID]\n",
    "mitch.keys()"
   ]
  },
  {
   "cell_type": "code",
   "execution_count": 9,
   "metadata": {},
   "outputs": [
    {
     "data": {
      "text/plain": [
       "dict_keys(['generalInfo', 'candidate', 'office'])"
      ]
     },
     "execution_count": 9,
     "metadata": {},
     "output_type": "execute_result"
    }
   ],
   "source": [
    "bio = mitch['bio']\n",
    "bio.keys()"
   ]
  },
  {
   "cell_type": "markdown",
   "metadata": {},
   "source": [
    "### bio > geneneralInfo\n",
    "Don't need"
   ]
  },
  {
   "cell_type": "code",
   "execution_count": 10,
   "metadata": {},
   "outputs": [
    {
     "data": {
      "text/plain": [
       "dict_keys(['title', 'linkBack'])"
      ]
     },
     "execution_count": 10,
     "metadata": {},
     "output_type": "execute_result"
    }
   ],
   "source": [
    "bio['generalInfo'].keys()"
   ]
  },
  {
   "cell_type": "code",
   "execution_count": 11,
   "metadata": {},
   "outputs": [
    {
     "data": {
      "text/plain": [
       "'Project Vote Smart - Bio -  Mitch McConnell'"
      ]
     },
     "execution_count": 11,
     "metadata": {},
     "output_type": "execute_result"
    }
   ],
   "source": [
    "bio['generalInfo']['title']"
   ]
  },
  {
   "cell_type": "code",
   "execution_count": 12,
   "metadata": {},
   "outputs": [
    {
     "data": {
      "text/plain": [
       "'http://votesmart.org/bio.php?can_id=53298'"
      ]
     },
     "execution_count": 12,
     "metadata": {},
     "output_type": "execute_result"
    }
   ],
   "source": [
    "bio['generalInfo']['linkBack']"
   ]
  },
  {
   "cell_type": "markdown",
   "metadata": {},
   "source": [
    "### bio > candidate"
   ]
  },
  {
   "cell_type": "code",
   "execution_count": 13,
   "metadata": {},
   "outputs": [
    {
     "data": {
      "text/plain": [
       "dict_keys(['candidateId', 'crpId', 'photo', 'firstName', 'nickName', 'middleName', 'preferredName', 'lastName', 'suffix', 'birthDate', 'birthPlace', 'pronunciation', 'gender', 'family', 'homeCity', 'homeState', 'education', 'profession', 'political', 'congMembership', 'orgMembership', 'religion', 'specialMsg'])"
      ]
     },
     "execution_count": 13,
     "metadata": {},
     "output_type": "execute_result"
    }
   ],
   "source": [
    "bio['candidate'].keys()"
   ]
  },
  {
   "cell_type": "code",
   "execution_count": 14,
   "metadata": {},
   "outputs": [
    {
     "name": "stdout",
     "output_type": "stream",
     "text": [
      "candidateId: 53298\n",
      "crpId: N00003389\n",
      "photo: https://static.votesmart.org/canphoto/53298.jpg\n",
      "firstName: Mitch\n",
      "nickName: \n",
      "middleName: \n",
      "preferredName: Mitch\n",
      "lastName: McConnell\n",
      "suffix: \n",
      "birthDate: 02/20/1942\n",
      "birthPlace: Sheffield, AL\n",
      "pronunciation: \n",
      "gender: Male\n",
      "family: Wife: Elaine Chao; 3 Children: Elly, Claire, Porter\n",
      "homeCity: Louisville\n",
      "homeState: KY\n",
      "education: <class 'dict'>\n",
      "profession: <class 'dict'>\n",
      "political: <class 'dict'>\n",
      "congMembership: <class 'dict'>\n",
      "orgMembership: <class 'dict'>\n",
      "religion: Baptist\n",
      "specialMsg: \n"
     ]
    }
   ],
   "source": [
    "for k, v in bio['candidate'].items():\n",
    "    if type(v) is str:\n",
    "        print(f'{k}: {v}')\n",
    "    else:\n",
    "        print(f'{k}: {type(v)}')"
   ]
  },
  {
   "cell_type": "markdown",
   "metadata": {},
   "source": [
    "#### bio > candidate > education"
   ]
  },
  {
   "cell_type": "code",
   "execution_count": 15,
   "metadata": {},
   "outputs": [
    {
     "data": {
      "text/plain": [
       "dict_keys(['institution'])"
      ]
     },
     "execution_count": 15,
     "metadata": {},
     "output_type": "execute_result"
    }
   ],
   "source": [
    "bio['candidate']['education'].keys()"
   ]
  },
  {
   "cell_type": "code",
   "execution_count": 16,
   "metadata": {},
   "outputs": [
    {
     "data": {
      "text/plain": [
       "[{'degree': 'JD',\n",
       "  'field': '',\n",
       "  'school': 'University of Kentucky Law School',\n",
       "  'span': '1967',\n",
       "  'gpa': '',\n",
       "  'fullText': 'JD, University of Kentucky Law School, 1967'},\n",
       " {'degree': 'BA',\n",
       "  'field': '',\n",
       "  'school': 'University of Louisville',\n",
       "  'span': '1964',\n",
       "  'gpa': '',\n",
       "  'fullText': 'BA, University of Louisville, 1964'}]"
      ]
     },
     "execution_count": 16,
     "metadata": {},
     "output_type": "execute_result"
    }
   ],
   "source": [
    "bio['candidate']['education']['institution']"
   ]
  },
  {
   "cell_type": "markdown",
   "metadata": {},
   "source": [
    "#### bio > candidate > profession"
   ]
  },
  {
   "cell_type": "code",
   "execution_count": 17,
   "metadata": {},
   "outputs": [
    {
     "data": {
      "text/plain": [
       "dict_keys(['experience'])"
      ]
     },
     "execution_count": 17,
     "metadata": {},
     "output_type": "execute_result"
    }
   ],
   "source": [
    "bio['candidate']['profession'].keys()"
   ]
  },
  {
   "cell_type": "code",
   "execution_count": 18,
   "metadata": {},
   "outputs": [
    {
     "data": {
      "text/plain": [
       "[{'title': 'Judge-Executive',\n",
       "  'organization': 'Jefferson County',\n",
       "  'span': '1978-1985',\n",
       "  'special': '',\n",
       "  'district': '',\n",
       "  'fullText': 'Judge-Executive, Jefferson County, 1978-1985'},\n",
       " {'title': 'Acting Assistant',\n",
       "  'organization': 'United States Attorney General',\n",
       "  'span': '1975',\n",
       "  'special': '',\n",
       "  'district': '',\n",
       "  'fullText': 'Acting Assistant, United States Attorney General, 1975'},\n",
       " {'title': 'Deputy Assistant',\n",
       "  'organization': 'United States Attorney General',\n",
       "  'span': '1974-1975',\n",
       "  'special': '',\n",
       "  'district': '',\n",
       "  'fullText': 'Deputy Assistant, United States Attorney General, 1974-1975'},\n",
       " {'title': 'Chief Legislative Assistant',\n",
       "  'organization': 'United States Senator Marlow Cook',\n",
       "  'span': '1968-1970',\n",
       "  'special': '',\n",
       "  'district': '',\n",
       "  'fullText': 'Chief Legislative Assistant, United States Senator Marlow Cook, 1968-1970'},\n",
       " {'title': 'Intern',\n",
       "  'organization': 'Senator John Sherman Cooper',\n",
       "  'span': '',\n",
       "  'special': '',\n",
       "  'district': '',\n",
       "  'fullText': 'Intern, Senator John Sherman Cooper'}]"
      ]
     },
     "execution_count": 18,
     "metadata": {},
     "output_type": "execute_result"
    }
   ],
   "source": [
    "bio['candidate']['profession']['experience']"
   ]
  },
  {
   "cell_type": "markdown",
   "metadata": {},
   "source": [
    "#### bio > candidate > political "
   ]
  },
  {
   "cell_type": "code",
   "execution_count": 19,
   "metadata": {},
   "outputs": [
    {
     "data": {
      "text/plain": [
       "dict_keys(['experience'])"
      ]
     },
     "execution_count": 19,
     "metadata": {},
     "output_type": "execute_result"
    }
   ],
   "source": [
    "bio['candidate']['political'].keys()"
   ]
  },
  {
   "cell_type": "code",
   "execution_count": 20,
   "metadata": {},
   "outputs": [
    {
     "data": {
      "text/plain": [
       "[{'title': 'Majority Leader',\n",
       "  'organization': 'United States Senate',\n",
       "  'span': '2015-present',\n",
       "  'special': '',\n",
       "  'district': '',\n",
       "  'fullText': 'Majority Leader, United States Senate, 2015-present'},\n",
       " {'title': 'Minority Leader',\n",
       "  'organization': 'United States Senate',\n",
       "  'span': '2006-2015',\n",
       "  'special': '',\n",
       "  'district': '',\n",
       "  'fullText': 'Minority Leader, United States Senate, 2006-2015'},\n",
       " {'title': 'Majority Whip',\n",
       "  'organization': 'United States Senate',\n",
       "  'span': '2002-2006',\n",
       "  'special': '',\n",
       "  'district': '',\n",
       "  'fullText': 'Majority Whip, United States Senate, 2002-2006'},\n",
       " {'title': 'Senator',\n",
       "  'organization': 'United States Senate',\n",
       "  'span': '1985-present',\n",
       "  'special': '',\n",
       "  'district': '',\n",
       "  'fullText': 'Senator, United States Senate, 1985-present'}]"
      ]
     },
     "execution_count": 20,
     "metadata": {},
     "output_type": "execute_result"
    }
   ],
   "source": [
    "bio['candidate']['political']['experience']"
   ]
  },
  {
   "cell_type": "markdown",
   "metadata": {},
   "source": [
    "#### bio > candidate > congMembership"
   ]
  },
  {
   "cell_type": "code",
   "execution_count": 21,
   "metadata": {},
   "outputs": [
    {
     "data": {
      "text/plain": [
       "dict_keys(['experience'])"
      ]
     },
     "execution_count": 21,
     "metadata": {},
     "output_type": "execute_result"
    }
   ],
   "source": [
    "bio['candidate']['congMembership'].keys()"
   ]
  },
  {
   "cell_type": "code",
   "execution_count": 22,
   "metadata": {},
   "outputs": [
    {
     "data": {
      "text/plain": [
       "[{'title': 'Chair',\n",
       "  'organization': 'National Republican Senatorial Committee',\n",
       "  'span': '1998, 2000',\n",
       "  'special': '',\n",
       "  'district': '',\n",
       "  'fullText': 'Chair, National Republican Senatorial Committee, 1998, 2000'},\n",
       " {'title': 'Chair',\n",
       "  'organization': 'Kentucky Task Force on Exploited and Missing Children',\n",
       "  'span': '1982',\n",
       "  'special': '',\n",
       "  'district': '',\n",
       "  'fullText': 'Chair, Kentucky Task Force on Exploited and Missing Children, 1982'},\n",
       " {'title': 'Founder',\n",
       "  'organization': 'Kentucky Task Force on Exploited and Missing Children',\n",
       "  'span': '1982',\n",
       "  'special': '',\n",
       "  'district': '',\n",
       "  'fullText': 'Founder, Kentucky Task Force on Exploited and Missing Children, 1982'},\n",
       " {'title': 'Member',\n",
       "  'organization': 'National Child Tragedies Coalition',\n",
       "  'span': '1981',\n",
       "  'special': '',\n",
       "  'district': '',\n",
       "  'fullText': 'Member, National Child Tragedies Coalition, 1981'},\n",
       " {'title': 'Vice Chair',\n",
       "  'organization': 'Ethics Study Commission',\n",
       "  'span': '',\n",
       "  'special': '',\n",
       "  'district': '',\n",
       "  'fullText': 'Vice Chair, Ethics Study Commission'},\n",
       " {'title': 'Former Member',\n",
       "  'organization': 'Livestock, Marketing, and Agriculture Security Subcommittee, United States Senate',\n",
       "  'span': '',\n",
       "  'special': '',\n",
       "  'district': '',\n",
       "  'fullText': 'Former Member, Livestock, Marketing, and Agriculture Security Subcommittee, United States Senate'},\n",
       " {'title': 'Former Member',\n",
       "  'organization': 'Select Committee on Intelligence, United States Senate',\n",
       "  'span': '',\n",
       "  'special': '',\n",
       "  'district': '',\n",
       "  'fullText': 'Former Member, Select Committee on Intelligence, United States Senate'},\n",
       " {'title': 'Former Member',\n",
       "  'organization': 'Conservation, Forestry, and Natural Resources Subcommittee, United States Senate',\n",
       "  'span': '',\n",
       "  'special': '',\n",
       "  'district': '',\n",
       "  'fullText': 'Former Member, Conservation, Forestry, and Natural Resources Subcommittee, United States Senate'},\n",
       " {'title': 'Member',\n",
       "  'organization': 'Tennessee Valley Authority Caucus',\n",
       "  'span': '',\n",
       "  'special': '',\n",
       "  'district': '',\n",
       "  'fullText': 'Member, Tennessee Valley Authority Caucus'}]"
      ]
     },
     "execution_count": 22,
     "metadata": {},
     "output_type": "execute_result"
    }
   ],
   "source": [
    "bio['candidate']['congMembership']['experience']"
   ]
  },
  {
   "cell_type": "markdown",
   "metadata": {},
   "source": [
    "#### bio > candidate > orgMembership"
   ]
  },
  {
   "cell_type": "code",
   "execution_count": 23,
   "metadata": {},
   "outputs": [
    {
     "data": {
      "text/plain": [
       "dict_keys(['experience'])"
      ]
     },
     "execution_count": 23,
     "metadata": {},
     "output_type": "execute_result"
    }
   ],
   "source": [
    "bio['candidate']['orgMembership'].keys()"
   ]
  },
  {
   "cell_type": "code",
   "execution_count": 24,
   "metadata": {},
   "outputs": [
    {
     "data": {
      "text/plain": [
       "[{'title': 'Member',\n",
       "  'organization': 'National Institute of Justice',\n",
       "  'span': '1982-1984',\n",
       "  'special': '',\n",
       "  'district': '',\n",
       "  'fullText': 'Member, National Institute of Justice, 1982-1984'},\n",
       " {'title': 'President',\n",
       "  'organization': 'Kentucky Association of County Judge/Executives',\n",
       "  'span': '1982',\n",
       "  'special': '',\n",
       "  'district': '',\n",
       "  'fullText': 'President, Kentucky Association of County Judge/Executives, 1982'},\n",
       " {'title': 'Member',\n",
       "  'organization': 'Kentucky Bar Association',\n",
       "  'span': '1967',\n",
       "  'special': '',\n",
       "  'district': '',\n",
       "  'fullText': 'Member, Kentucky Bar Association, 1967'},\n",
       " {'title': 'President',\n",
       "  'organization': 'University of Kentucky Student Bar Association',\n",
       "  'span': '',\n",
       "  'special': '',\n",
       "  'district': '',\n",
       "  'fullText': 'President, University of Kentucky Student Bar Association'},\n",
       " {'title': 'President',\n",
       "  'organization': 'University of Louisville Student Body',\n",
       "  'span': '',\n",
       "  'special': '',\n",
       "  'district': '',\n",
       "  'fullText': 'President, University of Louisville Student Body'}]"
      ]
     },
     "execution_count": 24,
     "metadata": {},
     "output_type": "execute_result"
    }
   ],
   "source": [
    "bio['candidate']['orgMembership']['experience']"
   ]
  },
  {
   "cell_type": "code",
   "execution_count": 25,
   "metadata": {},
   "outputs": [
    {
     "data": {
      "text/plain": [
       "dict_keys(['name', 'parties', 'title', 'shortTitle', 'type', 'status', 'firstElect', 'lastElect', 'nextElect', 'termStart', 'termEnd', 'district', 'districtId', 'stateId', 'committee'])"
      ]
     },
     "execution_count": 25,
     "metadata": {},
     "output_type": "execute_result"
    }
   ],
   "source": [
    "bio['office'].keys()"
   ]
  },
  {
   "cell_type": "code",
   "execution_count": 26,
   "metadata": {},
   "outputs": [
    {
     "name": "stdout",
     "output_type": "stream",
     "text": [
      "name: <class 'list'>\n",
      "parties: Republican\n",
      "title: Senator\n",
      "shortTitle: Sen.\n",
      "type: Congressional\n",
      "status: active\n",
      "firstElect: 11/06/1984\n",
      "lastElect: 11/04/2014\n",
      "nextElect: 2020\n",
      "termStart: 01/03/1985\n",
      "termEnd: \n",
      "district: Senior Seat\n",
      "districtId: 20508\n",
      "stateId: KY\n",
      "committee: <class 'list'>\n"
     ]
    }
   ],
   "source": [
    "for k, v in bio['office'].items():\n",
    "    if type(v) is str:\n",
    "        print(f'{k}: {v}')\n",
    "    else:\n",
    "        print(f'{k}: {type(v)}')"
   ]
  },
  {
   "cell_type": "code",
   "execution_count": 27,
   "metadata": {},
   "outputs": [
    {
     "data": {
      "text/plain": [
       "['U.S. Senate', 'U.S. Senate']"
      ]
     },
     "execution_count": 27,
     "metadata": {},
     "output_type": "execute_result"
    }
   ],
   "source": [
    "bio['office']['name']"
   ]
  },
  {
   "cell_type": "code",
   "execution_count": 28,
   "metadata": {},
   "outputs": [
    {
     "data": {
      "text/plain": [
       "[{'committeeId': '14073',\n",
       "  'committeeName': 'Agriculture, Nutrition and Forestry'},\n",
       " {'committeeId': '25', 'committeeName': 'Appropriations'},\n",
       " {'committeeId': '42', 'committeeName': 'Rules and Administration'},\n",
       " {'committeeId': '4064',\n",
       "  'committeeName': 'Subcommittee on Agriculture, Rural Development, Food and Drug Administration, and Related Agencies'},\n",
       " {'committeeId': '13907',\n",
       "  'committeeName': 'Subcommittee on Commodities, Risk Management and Trade'},\n",
       " {'committeeId': '4066', 'committeeName': 'Subcommittee on Defense'},\n",
       " {'committeeId': '4067',\n",
       "  'committeeName': 'Subcommittee on Energy nd Water Development'},\n",
       " {'committeeId': '4070',\n",
       "  'committeeName': 'Subcommittee on Interior, Environment, and Related Agencies'},\n",
       " {'committeeId': '4073',\n",
       "  'committeeName': 'Subcommittee on Military Construction, Veterans Affairs, and Related Agencies'},\n",
       " {'committeeId': '13911',\n",
       "  'committeeName': 'Subcommittee on Nutrition, Agricultural Research, and Specialty Crops'},\n",
       " {'committeeId': '14467',\n",
       "  'committeeName': 'Subcommittee on Rural Development and Energy'},\n",
       " {'committeeId': '4074',\n",
       "  'committeeName': 'Subcommittee on State, Foreign Operations, and Related Programs'}]"
      ]
     },
     "execution_count": 28,
     "metadata": {},
     "output_type": "execute_result"
    }
   ],
   "source": [
    "bio['office']['committee']"
   ]
  },
  {
   "cell_type": "code",
   "execution_count": 29,
   "metadata": {},
   "outputs": [],
   "source": [
    "def flatten_other(other, pref):\n",
    "    out = {}\n",
    "    ignore = ['fullText']\n",
    "    exp = other['experience']\n",
    "    for e in exp:\n",
    "        for k, v in e.items():\n",
    "            if k in ignore:\n",
    "                continue\n",
    "            k_adj = f'{pref}_{k}'\n",
    "            if k_adj in out:\n",
    "                out[k_adj].append(v)\n",
    "            else:\n",
    "                out[k_adj] = [v]\n",
    "    return out"
   ]
  },
  {
   "cell_type": "code",
   "execution_count": 30,
   "metadata": {},
   "outputs": [],
   "source": [
    "def flatten_education(education, pref):\n",
    "    out = {}\n",
    "    ignore = ['fullText']\n",
    "    institutions = education['institution']\n",
    "    for inst in institutions:\n",
    "        for k, v in inst.items():\n",
    "            if k in ignore:\n",
    "                continue\n",
    "            k_adj = f'{pref}_{k}'\n",
    "            if k_adj in out:\n",
    "                out[k_adj].append(v)\n",
    "            else:\n",
    "                out[k_adj] = [v]\n",
    "    return out"
   ]
  },
  {
   "cell_type": "code",
   "execution_count": 31,
   "metadata": {},
   "outputs": [],
   "source": [
    "def flatten_candidate(candidate):\n",
    "    out = {}\n",
    "    ignore = ['pronunciation']\n",
    "    flatteners = {'education': flatten_education}\n",
    "    prefixes = {'education': 'edu',\n",
    "                'profession': 'prof',\n",
    "                'political': 'pol',\n",
    "                'congMembership': 'cong_mem',\n",
    "                'orgMembership': 'org_mem'}\n",
    "    for k, v in candidate.items():\n",
    "        if k in ignore:\n",
    "            continue\n",
    "        if type(v) is str:\n",
    "            out[k] = v\n",
    "        else:\n",
    "            prefix = prefixes[k]\n",
    "            subsection = flatteners.get(k, flatten_other)(v, pref=prefix)\n",
    "            out.update(subsection)\n",
    "    return out"
   ]
  },
  {
   "cell_type": "code",
   "execution_count": 32,
   "metadata": {},
   "outputs": [],
   "source": [
    "def flatten_office(office):\n",
    "    out = {}\n",
    "    ignore = ['shortTitle']\n",
    "    for k, v in office.items():\n",
    "        if k in ignore:\n",
    "            continue\n",
    "        if type(v) is str:\n",
    "            k_adj = f'off_{k}'\n",
    "            out[k_adj] = v\n",
    "        elif k == 'name':\n",
    "            out['off_name'] = v\n",
    "        elif k == 'committee':\n",
    "            out['committees'] = [d['committeeName'] for d in v]\n",
    "            out['committee_ids'] = [d['committeeId'] for d in v]\n",
    "    return out"
   ]
  },
  {
   "cell_type": "code",
   "execution_count": 33,
   "metadata": {
    "scrolled": false
   },
   "outputs": [
    {
     "name": "stdout",
     "output_type": "stream",
     "text": [
      "\n",
      "\n",
      "Test:\n",
      "{'candidateId': '53298', 'crpId': 'N00003389', 'photo': 'https://static.votesmart.org/canphoto/53298.jpg', 'firstName': 'Mitch', 'nickName': '', 'middleName': '', 'preferredName': 'Mitch', 'lastName': 'McConnell', 'suffix': '', 'birthDate': '02/20/1942', 'birthPlace': 'Sheffield, AL', 'gender': 'Male', 'family': 'Wife: Elaine Chao; 3 Children: Elly, Claire, Porter', 'homeCity': 'Louisville', 'homeState': 'KY', 'edu_degree': \"['JD', 'BA']\", 'edu_field': \"['', '']\", 'edu_school': \"['University of Kentucky Law School', 'University of Louisville']\", 'edu_span': \"['1967', '1964']\", 'edu_gpa': \"['', '']\", 'prof_title': \"['Judge-Executive', 'Acting Assistant', 'Deputy Assistant', 'Chief Legislative Assistant', 'Intern']\", 'prof_organization': \"['Jefferson County', 'United States Attorney General', 'United States Attorney General', 'United States Senator Marlow Cook', 'Senator John Sherman Cooper']\", 'prof_span': \"['1978-1985', '1975', '1974-1975', '1968-1970', '']\", 'prof_special': \"['', '', '', '', '']\", 'prof_district': \"['', '', '', '', '']\", 'pol_title': \"['Majority Leader', 'Minority Leader', 'Majority Whip', 'Senator']\", 'pol_organization': \"['United States Senate', 'United States Senate', 'United States Senate', 'United States Senate']\", 'pol_span': \"['2015-present', '2006-2015', '2002-2006', '1985-present']\", 'pol_special': \"['', '', '', '']\", 'pol_district': \"['', '', '', '']\", 'cong_mem_title': \"['Chair', 'Chair', 'Founder', 'Member', 'Vice Chair', 'Former Member', 'Former Member', 'Former Member', 'Member']\", 'cong_mem_organization': \"['National Republican Senatorial Committee', 'Kentucky Task Force on Exploited and Missing Children', 'Kentucky Task Force on Exploited and Missing Children', 'National Child Tragedies Coalition', 'Ethics Study Commission', 'Livestock, Marketing, and Agriculture Security Subcommittee, United States Senate', 'Select Committee on Intelligence, United States Senate', 'Conservation, Forestry, and Natural Resources Subcommittee, United States Senate', 'Tennessee Valley Authority Caucus']\", 'cong_mem_span': \"['1998, 2000', '1982', '1982', '1981', '', '', '', '', '']\", 'cong_mem_special': \"['', '', '', '', '', '', '', '', '']\", 'cong_mem_district': \"['', '', '', '', '', '', '', '', '']\", 'org_mem_title': \"['Member', 'President', 'Member', 'President', 'President']\", 'org_mem_organization': \"['National Institute of Justice', 'Kentucky Association of County Judge/Executives', 'Kentucky Bar Association', 'University of Kentucky Student Bar Association', 'University of Louisville Student Body']\", 'org_mem_span': \"['1982-1984', '1982', '1967', '', '']\", 'org_mem_special': \"['', '', '', '', '']\", 'org_mem_district': \"['', '', '', '', '']\", 'religion': 'Baptist', 'specialMsg': '', 'off_name': \"['U.S. Senate', 'U.S. Senate']\", 'off_parties': 'Republican', 'off_title': 'Senator', 'off_type': 'Congressional', 'off_status': 'active', 'off_firstElect': '11/06/1984', 'off_lastElect': '11/04/2014', 'off_nextElect': '2020', 'off_termStart': '01/03/1985', 'off_termEnd': '', 'off_district': 'Senior Seat', 'off_districtId': '20508', 'off_stateId': 'KY', 'committees': \"['Agriculture, Nutrition and Forestry', 'Appropriations', 'Rules and Administration', 'Subcommittee on Agriculture, Rural Development, Food and Drug Administration, and Related Agencies', 'Subcommittee on Commodities, Risk Management and Trade', 'Subcommittee on Defense', 'Subcommittee on Energy nd Water Development', 'Subcommittee on Interior, Environment, and Related Agencies', 'Subcommittee on Military Construction, Veterans Affairs, and Related Agencies', 'Subcommittee on Nutrition, Agricultural Research, and Specialty Crops', 'Subcommittee on Rural Development and Energy', 'Subcommittee on State, Foreign Operations, and Related Programs']\", 'committee_ids': \"['14073', '25', '42', '4064', '13907', '4066', '4067', '4070', '4073', '13911', '14467', '4074']\"}\n"
     ]
    }
   ],
   "source": [
    "def senator_to_df(senator_bio):\n",
    "    out = {}\n",
    "    candidate = senator_bio['candidate']\n",
    "    candidate = flatten_candidate(candidate)\n",
    "    out.update(candidate)\n",
    "    office = senator_bio['office']\n",
    "    office = flatten_office(office)\n",
    "    out.update(office)\n",
    "    out = {k: str(v) for k, v in out.items()}\n",
    "    return out\n",
    "    \n",
    "mitch_bio = senator_bios[MITCH_ID]['bio']    \n",
    "test = senator_to_df(mitch_bio)\n",
    "print('\\n\\nTest:')\n",
    "print(test)"
   ]
  },
  {
   "cell_type": "code",
   "execution_count": 55,
   "metadata": {},
   "outputs": [],
   "source": [
    "def get_all_keys_in_dict(dct, prefix='', keys=set()):\n",
    "    for k in dct:\n",
    "        if type(dct[k]) in [str, int, float, bool] or dct[k] is None:\n",
    "            keys.add('%s%s' % (prefix, k))\n",
    "        else:\n",
    "            get_all_keys_in_dict(dct[k], prefix='%s.' % k, keys=keys)\n",
    "    return keys"
   ]
  },
  {
   "cell_type": "code",
   "execution_count": 56,
   "metadata": {},
   "outputs": [],
   "source": [
    "def get_all_keys_in_list_of_dicts(list_of_dicts):\n",
    "    keys = set()\n",
    "    for d in list_of_dicts:\n",
    "        keys = keys | get_all_keys_in_dict(d)\n",
    "    return keys"
   ]
  },
  {
   "cell_type": "code",
   "execution_count": 148,
   "metadata": {},
   "outputs": [],
   "source": [
    "def flatten(json_obj, prefix='', out={}):\n",
    "    ignore = ['generalInfo', 'pronunciation', 'shortTitle']\n",
    "    if type(json_obj) is str:\n",
    "        if prefix in out:\n",
    "            out[prefix].append(json_obj)\n",
    "        else:\n",
    "            out[prefix] = [json_obj]\n",
    "    else:\n",
    "        for k, v in json_obj.items():\n",
    "            if k in ignore:\n",
    "                continue\n",
    "            k_adj = f'{prefix}_{k}' if prefix else k\n",
    "            if type(v) in [str, int, float, bool] or v is None:\n",
    "                out[k_adj] = v\n",
    "            elif type(v) is dict:\n",
    "                flatten(v, k_adj, out)\n",
    "            elif type(v) is list:\n",
    "                if type(v[0]) is str:\n",
    "                    out[k_adj] = v\n",
    "                else:\n",
    "                    #print(f'\\n{k_adj} list: {v}')\n",
    "                    for d in v:\n",
    "                        for lk, lv in d.items():\n",
    "                            lk_adj = f'{prefix}_{lk}'\n",
    "                            if lk_adj in out:\n",
    "                                out[lk_adj].append(lv)\n",
    "                            else:\n",
    "                                out[lk_adj] = [lv]\n",
    "    return out"
   ]
  },
  {
   "cell_type": "code",
   "execution_count": 149,
   "metadata": {
    "scrolled": false
   },
   "outputs": [],
   "source": [
    "mitch_flat = flatten(mitch_bio)"
   ]
  },
  {
   "cell_type": "code",
   "execution_count": 150,
   "metadata": {
    "scrolled": false
   },
   "outputs": [
    {
     "name": "stdout",
     "output_type": "stream",
     "text": [
      "{'candidate_birthDate': '02/20/1942',\n",
      " 'candidate_birthPlace': 'Sheffield, AL',\n",
      " 'candidate_candidateId': '53298',\n",
      " 'candidate_congMembership_district': ['', '', '', '', '', '', '', '', ''],\n",
      " 'candidate_congMembership_fullText': ['Chair, National Republican Senatorial '\n",
      "                                       'Committee, 1998, 2000',\n",
      "                                       'Chair, Kentucky Task Force on '\n",
      "                                       'Exploited and Missing Children, 1982',\n",
      "                                       'Founder, Kentucky Task Force on '\n",
      "                                       'Exploited and Missing Children, 1982',\n",
      "                                       'Member, National Child Tragedies '\n",
      "                                       'Coalition, 1981',\n",
      "                                       'Vice Chair, Ethics Study Commission',\n",
      "                                       'Former Member, Livestock, Marketing, '\n",
      "                                       'and Agriculture Security Subcommittee, '\n",
      "                                       'United States Senate',\n",
      "                                       'Former Member, Select Committee on '\n",
      "                                       'Intelligence, United States Senate',\n",
      "                                       'Former Member, Conservation, Forestry, '\n",
      "                                       'and Natural Resources Subcommittee, '\n",
      "                                       'United States Senate',\n",
      "                                       'Member, Tennessee Valley Authority '\n",
      "                                       'Caucus'],\n",
      " 'candidate_congMembership_organization': ['National Republican Senatorial '\n",
      "                                           'Committee',\n",
      "                                           'Kentucky Task Force on Exploited '\n",
      "                                           'and Missing Children',\n",
      "                                           'Kentucky Task Force on Exploited '\n",
      "                                           'and Missing Children',\n",
      "                                           'National Child Tragedies Coalition',\n",
      "                                           'Ethics Study Commission',\n",
      "                                           'Livestock, Marketing, and '\n",
      "                                           'Agriculture Security Subcommittee, '\n",
      "                                           'United States Senate',\n",
      "                                           'Select Committee on Intelligence, '\n",
      "                                           'United States Senate',\n",
      "                                           'Conservation, Forestry, and '\n",
      "                                           'Natural Resources Subcommittee, '\n",
      "                                           'United States Senate',\n",
      "                                           'Tennessee Valley Authority Caucus'],\n",
      " 'candidate_congMembership_span': ['1998, 2000',\n",
      "                                   '1982',\n",
      "                                   '1982',\n",
      "                                   '1981',\n",
      "                                   '',\n",
      "                                   '',\n",
      "                                   '',\n",
      "                                   '',\n",
      "                                   ''],\n",
      " 'candidate_congMembership_special': ['', '', '', '', '', '', '', '', ''],\n",
      " 'candidate_congMembership_title': ['Chair',\n",
      "                                    'Chair',\n",
      "                                    'Founder',\n",
      "                                    'Member',\n",
      "                                    'Vice Chair',\n",
      "                                    'Former Member',\n",
      "                                    'Former Member',\n",
      "                                    'Former Member',\n",
      "                                    'Member'],\n",
      " 'candidate_crpId': 'N00003389',\n",
      " 'candidate_education_degree': ['JD', 'BA'],\n",
      " 'candidate_education_field': ['', ''],\n",
      " 'candidate_education_fullText': ['JD, University of Kentucky Law School, 1967',\n",
      "                                  'BA, University of Louisville, 1964'],\n",
      " 'candidate_education_gpa': ['', ''],\n",
      " 'candidate_education_school': ['University of Kentucky Law School',\n",
      "                                'University of Louisville'],\n",
      " 'candidate_education_span': ['1967', '1964'],\n",
      " 'candidate_family': 'Wife: Elaine Chao; 3 Children: Elly, Claire, Porter',\n",
      " 'candidate_firstName': 'Mitch',\n",
      " 'candidate_gender': 'Male',\n",
      " 'candidate_homeCity': 'Louisville',\n",
      " 'candidate_homeState': 'KY',\n",
      " 'candidate_lastName': 'McConnell',\n",
      " 'candidate_middleName': '',\n",
      " 'candidate_nickName': '',\n",
      " 'candidate_orgMembership_district': ['', '', '', '', ''],\n",
      " 'candidate_orgMembership_fullText': ['Member, National Institute of Justice, '\n",
      "                                      '1982-1984',\n",
      "                                      'President, Kentucky Association of '\n",
      "                                      'County Judge/Executives, 1982',\n",
      "                                      'Member, Kentucky Bar Association, 1967',\n",
      "                                      'President, University of Kentucky '\n",
      "                                      'Student Bar Association',\n",
      "                                      'President, University of Louisville '\n",
      "                                      'Student Body'],\n",
      " 'candidate_orgMembership_organization': ['National Institute of Justice',\n",
      "                                          'Kentucky Association of County '\n",
      "                                          'Judge/Executives',\n",
      "                                          'Kentucky Bar Association',\n",
      "                                          'University of Kentucky Student Bar '\n",
      "                                          'Association',\n",
      "                                          'University of Louisville Student '\n",
      "                                          'Body'],\n",
      " 'candidate_orgMembership_span': ['1982-1984', '1982', '1967', '', ''],\n",
      " 'candidate_orgMembership_special': ['', '', '', '', ''],\n",
      " 'candidate_orgMembership_title': ['Member',\n",
      "                                   'President',\n",
      "                                   'Member',\n",
      "                                   'President',\n",
      "                                   'President'],\n",
      " 'candidate_photo': 'https://static.votesmart.org/canphoto/53298.jpg',\n",
      " 'candidate_political_district': ['', '', '', ''],\n",
      " 'candidate_political_fullText': ['Majority Leader, United States Senate, '\n",
      "                                  '2015-present',\n",
      "                                  'Minority Leader, United States Senate, '\n",
      "                                  '2006-2015',\n",
      "                                  'Majority Whip, United States Senate, '\n",
      "                                  '2002-2006',\n",
      "                                  'Senator, United States Senate, '\n",
      "                                  '1985-present'],\n",
      " 'candidate_political_organization': ['United States Senate',\n",
      "                                      'United States Senate',\n",
      "                                      'United States Senate',\n",
      "                                      'United States Senate'],\n",
      " 'candidate_political_span': ['2015-present',\n",
      "                              '2006-2015',\n",
      "                              '2002-2006',\n",
      "                              '1985-present'],\n",
      " 'candidate_political_special': ['', '', '', ''],\n",
      " 'candidate_political_title': ['Majority Leader',\n",
      "                               'Minority Leader',\n",
      "                               'Majority Whip',\n",
      "                               'Senator'],\n",
      " 'candidate_preferredName': 'Mitch',\n",
      " 'candidate_profession_district': ['', '', '', '', ''],\n",
      " 'candidate_profession_fullText': ['Judge-Executive, Jefferson County, '\n",
      "                                   '1978-1985',\n",
      "                                   'Acting Assistant, United States Attorney '\n",
      "                                   'General, 1975',\n",
      "                                   'Deputy Assistant, United States Attorney '\n",
      "                                   'General, 1974-1975',\n",
      "                                   'Chief Legislative Assistant, United States '\n",
      "                                   'Senator Marlow Cook, 1968-1970',\n",
      "                                   'Intern, Senator John Sherman Cooper'],\n",
      " 'candidate_profession_organization': ['Jefferson County',\n",
      "                                       'United States Attorney General',\n",
      "                                       'United States Attorney General',\n",
      "                                       'United States Senator Marlow Cook',\n",
      "                                       'Senator John Sherman Cooper'],\n",
      " 'candidate_profession_span': ['1978-1985',\n",
      "                               '1975',\n",
      "                               '1974-1975',\n",
      "                               '1968-1970',\n",
      "                               ''],\n",
      " 'candidate_profession_special': ['', '', '', '', ''],\n",
      " 'candidate_profession_title': ['Judge-Executive',\n",
      "                                'Acting Assistant',\n",
      "                                'Deputy Assistant',\n",
      "                                'Chief Legislative Assistant',\n",
      "                                'Intern'],\n",
      " 'candidate_religion': 'Baptist',\n",
      " 'candidate_specialMsg': '',\n",
      " 'candidate_suffix': '',\n",
      " 'office_committeeId': ['14073',\n",
      "                        '25',\n",
      "                        '42',\n",
      "                        '4064',\n",
      "                        '13907',\n",
      "                        '4066',\n",
      "                        '4067',\n",
      "                        '4070',\n",
      "                        '4073',\n",
      "                        '13911',\n",
      "                        '14467',\n",
      "                        '4074'],\n",
      " 'office_committeeName': ['Agriculture, Nutrition and Forestry',\n",
      "                          'Appropriations',\n",
      "                          'Rules and Administration',\n",
      "                          'Subcommittee on Agriculture, Rural Development, '\n",
      "                          'Food and Drug Administration, and Related Agencies',\n",
      "                          'Subcommittee on Commodities, Risk Management and '\n",
      "                          'Trade',\n",
      "                          'Subcommittee on Defense',\n",
      "                          'Subcommittee on Energy nd Water Development',\n",
      "                          'Subcommittee on Interior, Environment, and Related '\n",
      "                          'Agencies',\n",
      "                          'Subcommittee on Military Construction, Veterans '\n",
      "                          'Affairs, and Related Agencies',\n",
      "                          'Subcommittee on Nutrition, Agricultural Research, '\n",
      "                          'and Specialty Crops',\n",
      "                          'Subcommittee on Rural Development and Energy',\n",
      "                          'Subcommittee on State, Foreign Operations, and '\n",
      "                          'Related Programs'],\n",
      " 'office_district': 'Senior Seat',\n",
      " 'office_districtId': '20508',\n",
      " 'office_firstElect': '11/06/1984',\n",
      " 'office_lastElect': '11/04/2014',\n",
      " 'office_name': ['U.S. Senate', 'U.S. Senate'],\n",
      " 'office_nextElect': '2020',\n",
      " 'office_parties': 'Republican',\n",
      " 'office_stateId': 'KY',\n",
      " 'office_status': 'active',\n",
      " 'office_termEnd': '',\n",
      " 'office_termStart': '01/03/1985',\n",
      " 'office_title': 'Senator',\n",
      " 'office_type': 'Congressional'}\n"
     ]
    }
   ],
   "source": [
    "pprint(mitch_flat)"
   ]
  },
  {
   "cell_type": "code",
   "execution_count": null,
   "metadata": {},
   "outputs": [],
   "source": []
  }
 ],
 "metadata": {
  "kernelspec": {
   "display_name": "Python 3",
   "language": "python",
   "name": "python3"
  },
  "language_info": {
   "codemirror_mode": {
    "name": "ipython",
    "version": 3
   },
   "file_extension": ".py",
   "mimetype": "text/x-python",
   "name": "python",
   "nbconvert_exporter": "python",
   "pygments_lexer": "ipython3",
   "version": "3.7.5"
  }
 },
 "nbformat": 4,
 "nbformat_minor": 2
}
