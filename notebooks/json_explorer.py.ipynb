{
 "cells": [
  {
   "cell_type": "code",
   "execution_count": 3,
   "metadata": {},
   "outputs": [],
   "source": [
    "from datetime import datetime\n",
    "import json\n",
    "from pprint import pprint\n",
    "import sys\n",
    "\n",
    "sys.path.append('..')\n",
    "\n",
    "from votesmart import APIHandler"
   ]
  },
  {
   "cell_type": "code",
   "execution_count": 20,
   "metadata": {},
   "outputs": [],
   "source": [
    "DATA = '../data'\n",
    "CONFIG = '../config'\n",
    "DATE = datetime.now()\n",
    "YEAR = DATE.year"
   ]
  },
  {
   "cell_type": "code",
   "execution_count": 21,
   "metadata": {},
   "outputs": [],
   "source": [
    "def init_vs():\n",
    "    with open(f'{CONFIG}/keys.json') as f:\n",
    "        keys = json.load(f)\n",
    "    votesmart_api_key = keys['votesmart']['APIKey']\n",
    "    vs = APIHandler(votesmart_api_key)\n",
    "    return vs"
   ]
  },
  {
   "cell_type": "code",
   "execution_count": 22,
   "metadata": {},
   "outputs": [
    {
     "name": "stdout",
     "output_type": "stream",
     "text": [
      "Getting current senator data...\n",
      "  candidateId firstName nickName middleName preferredName   lastName suffix  \\\n",
      "0       53273    Dianne                            Dianne  Feinstein          \n",
      "0      120012    Kamala                  D.        Kamala     Harris          \n",
      "0       53298     Mitch                             Mitch  McConnell          \n",
      "0      117285      Rand                              Rand       Paul          \n",
      "0       23644   Jeffery     Jeff         A.          Jeff    Merkley          \n",
      "\n",
      "     title        ballotName electionParties  ... officeParties officeStatus  \\\n",
      "0  Senator                                    ...    Democratic       active   \n",
      "0  Senator  Kamala D. Harris      Democratic  ...    Democratic       active   \n",
      "0  Senator                                    ...    Republican       active   \n",
      "0  Senator                                    ...    Republican       active   \n",
      "0  Senator                                    ...    Democratic       active   \n",
      "\n",
      "  officeDistrictId officeDistrictName officeStateId officeId   officeName  \\\n",
      "0            20496                 Sr            CA        6  U.S. Senate   \n",
      "0            20446                 Jr            CA        6  U.S. Senate   \n",
      "0            20508                 Sr            KY        6  U.S. Senate   \n",
      "0            20458                 Jr            KY        6  U.S. Senate   \n",
      "0            20478                 Jr            OR        6  U.S. Senate   \n",
      "\n",
      "  officeTypeId runningMateId runningMateName  \n",
      "0            C                                \n",
      "0            C                                \n",
      "0            C                                \n",
      "0            C                                \n",
      "0            C                                \n",
      "\n",
      "[5 rows x 31 columns]\n",
      "Saving senator data...\n",
      "Getting senator bios...\n",
      "  for senator with ID: 53273...\n",
      "  for senator with ID: 120012...\n",
      "  for senator with ID: 53298...\n",
      "  for senator with ID: 117285...\n",
      "  for senator with ID: 23644...\n",
      "  for senator with ID: 27036...\n"
     ]
    }
   ],
   "source": [
    "vs = init_vs()\n",
    "senators_df = vs.get_current_senators('df')\n",
    "print(senators_df.head())\n",
    "print('Saving senator data...')\n",
    "senators_df.to_csv(f'{DATA}/senators_{YEAR}.csv', index=False)\n",
    "senator_bios = vs.get_senator_bios()"
   ]
  },
  {
   "cell_type": "code",
   "execution_count": 26,
   "metadata": {},
   "outputs": [
    {
     "data": {
      "text/plain": [
       "dict_keys(['bio'])"
      ]
     },
     "execution_count": 26,
     "metadata": {},
     "output_type": "execute_result"
    }
   ],
   "source": [
    "MITCH_ID = '53298'\n",
    "mitch = senator_bios[MITCH_ID]\n",
    "mitch.keys()"
   ]
  },
  {
   "cell_type": "code",
   "execution_count": 27,
   "metadata": {},
   "outputs": [
    {
     "data": {
      "text/plain": [
       "dict_keys(['generalInfo', 'candidate', 'office'])"
      ]
     },
     "execution_count": 27,
     "metadata": {},
     "output_type": "execute_result"
    }
   ],
   "source": [
    "bio = mitch['bio']\n",
    "bio.keys()"
   ]
  },
  {
   "cell_type": "markdown",
   "metadata": {},
   "source": [
    "### bio > geneneralInfo\n",
    "Don't need"
   ]
  },
  {
   "cell_type": "code",
   "execution_count": 28,
   "metadata": {},
   "outputs": [
    {
     "data": {
      "text/plain": [
       "dict_keys(['title', 'linkBack'])"
      ]
     },
     "execution_count": 28,
     "metadata": {},
     "output_type": "execute_result"
    }
   ],
   "source": [
    "bio['generalInfo'].keys()"
   ]
  },
  {
   "cell_type": "code",
   "execution_count": 29,
   "metadata": {},
   "outputs": [
    {
     "data": {
      "text/plain": [
       "'Project Vote Smart - Bio -  Mitch McConnell'"
      ]
     },
     "execution_count": 29,
     "metadata": {},
     "output_type": "execute_result"
    }
   ],
   "source": [
    "bio['generalInfo']['title']"
   ]
  },
  {
   "cell_type": "code",
   "execution_count": 30,
   "metadata": {},
   "outputs": [
    {
     "data": {
      "text/plain": [
       "'http://votesmart.org/bio.php?can_id=53298'"
      ]
     },
     "execution_count": 30,
     "metadata": {},
     "output_type": "execute_result"
    }
   ],
   "source": [
    "bio['generalInfo']['linkBack']"
   ]
  },
  {
   "cell_type": "markdown",
   "metadata": {},
   "source": [
    "### bio > candidate"
   ]
  },
  {
   "cell_type": "code",
   "execution_count": 31,
   "metadata": {},
   "outputs": [
    {
     "data": {
      "text/plain": [
       "dict_keys(['candidateId', 'crpId', 'photo', 'firstName', 'nickName', 'middleName', 'preferredName', 'lastName', 'suffix', 'birthDate', 'birthPlace', 'pronunciation', 'gender', 'family', 'homeCity', 'homeState', 'education', 'profession', 'political', 'congMembership', 'orgMembership', 'religion', 'specialMsg'])"
      ]
     },
     "execution_count": 31,
     "metadata": {},
     "output_type": "execute_result"
    }
   ],
   "source": [
    "bio['candidate'].keys()"
   ]
  },
  {
   "cell_type": "code",
   "execution_count": 33,
   "metadata": {},
   "outputs": [
    {
     "name": "stdout",
     "output_type": "stream",
     "text": [
      "candidateId: 53298\n",
      "crpId: N00003389\n",
      "photo: https://static.votesmart.org/canphoto/53298.jpg\n",
      "firstName: Mitch\n",
      "nickName: \n",
      "middleName: \n",
      "preferredName: Mitch\n",
      "lastName: McConnell\n",
      "suffix: \n",
      "birthDate: 02/20/1942\n",
      "birthPlace: Sheffield, AL\n",
      "pronunciation: \n",
      "gender: Male\n",
      "family: Wife: Elaine Chao; 3 Children: Elly, Claire, Porter\n",
      "homeCity: Louisville\n",
      "homeState: KY\n",
      "education: <class 'dict'>\n",
      "profession: <class 'dict'>\n",
      "political: <class 'dict'>\n",
      "congMembership: <class 'dict'>\n",
      "orgMembership: <class 'dict'>\n",
      "religion: Baptist\n",
      "specialMsg: \n"
     ]
    }
   ],
   "source": [
    "for k, v in bio['candidate'].items():\n",
    "    if type(v) is str:\n",
    "        print(f'{k}: {v}')\n",
    "    else:\n",
    "        print(f'{k}: {type(v)}')"
   ]
  },
  {
   "cell_type": "markdown",
   "metadata": {},
   "source": [
    "#### bio > candidate > education"
   ]
  },
  {
   "cell_type": "code",
   "execution_count": 35,
   "metadata": {},
   "outputs": [
    {
     "data": {
      "text/plain": [
       "dict_keys(['institution'])"
      ]
     },
     "execution_count": 35,
     "metadata": {},
     "output_type": "execute_result"
    }
   ],
   "source": [
    "bio['candidate']['education'].keys()"
   ]
  },
  {
   "cell_type": "code",
   "execution_count": 36,
   "metadata": {},
   "outputs": [
    {
     "data": {
      "text/plain": [
       "[{'degree': 'JD',\n",
       "  'field': '',\n",
       "  'school': 'University of Kentucky Law School',\n",
       "  'span': '1967',\n",
       "  'gpa': '',\n",
       "  'fullText': 'JD, University of Kentucky Law School, 1967'},\n",
       " {'degree': 'BA',\n",
       "  'field': '',\n",
       "  'school': 'University of Louisville',\n",
       "  'span': '1964',\n",
       "  'gpa': '',\n",
       "  'fullText': 'BA, University of Louisville, 1964'}]"
      ]
     },
     "execution_count": 36,
     "metadata": {},
     "output_type": "execute_result"
    }
   ],
   "source": [
    "bio['candidate']['education']['institution']"
   ]
  },
  {
   "cell_type": "markdown",
   "metadata": {},
   "source": [
    "#### bio > candidate > profession"
   ]
  },
  {
   "cell_type": "code",
   "execution_count": 37,
   "metadata": {},
   "outputs": [
    {
     "data": {
      "text/plain": [
       "dict_keys(['experience'])"
      ]
     },
     "execution_count": 37,
     "metadata": {},
     "output_type": "execute_result"
    }
   ],
   "source": [
    "bio['candidate']['profession'].keys()"
   ]
  },
  {
   "cell_type": "code",
   "execution_count": 38,
   "metadata": {},
   "outputs": [
    {
     "data": {
      "text/plain": [
       "[{'title': 'Judge-Executive',\n",
       "  'organization': 'Jefferson County',\n",
       "  'span': '1978-1985',\n",
       "  'special': '',\n",
       "  'district': '',\n",
       "  'fullText': 'Judge-Executive, Jefferson County, 1978-1985'},\n",
       " {'title': 'Acting Assistant',\n",
       "  'organization': 'United States Attorney General',\n",
       "  'span': '1975',\n",
       "  'special': '',\n",
       "  'district': '',\n",
       "  'fullText': 'Acting Assistant, United States Attorney General, 1975'},\n",
       " {'title': 'Deputy Assistant',\n",
       "  'organization': 'United States Attorney General',\n",
       "  'span': '1974-1975',\n",
       "  'special': '',\n",
       "  'district': '',\n",
       "  'fullText': 'Deputy Assistant, United States Attorney General, 1974-1975'},\n",
       " {'title': 'Chief Legislative Assistant',\n",
       "  'organization': 'United States Senator Marlow Cook',\n",
       "  'span': '1968-1970',\n",
       "  'special': '',\n",
       "  'district': '',\n",
       "  'fullText': 'Chief Legislative Assistant, United States Senator Marlow Cook, 1968-1970'},\n",
       " {'title': 'Intern',\n",
       "  'organization': 'Senator John Sherman Cooper',\n",
       "  'span': '',\n",
       "  'special': '',\n",
       "  'district': '',\n",
       "  'fullText': 'Intern, Senator John Sherman Cooper'}]"
      ]
     },
     "execution_count": 38,
     "metadata": {},
     "output_type": "execute_result"
    }
   ],
   "source": [
    "bio['candidate']['profession']['experience']"
   ]
  },
  {
   "cell_type": "markdown",
   "metadata": {},
   "source": [
    "#### bio > candidate > political "
   ]
  },
  {
   "cell_type": "code",
   "execution_count": 39,
   "metadata": {},
   "outputs": [
    {
     "data": {
      "text/plain": [
       "dict_keys(['experience'])"
      ]
     },
     "execution_count": 39,
     "metadata": {},
     "output_type": "execute_result"
    }
   ],
   "source": [
    "bio['candidate']['political'].keys()"
   ]
  },
  {
   "cell_type": "code",
   "execution_count": 40,
   "metadata": {},
   "outputs": [
    {
     "data": {
      "text/plain": [
       "[{'title': 'Majority Leader',\n",
       "  'organization': 'United States Senate',\n",
       "  'span': '2015-present',\n",
       "  'special': '',\n",
       "  'district': '',\n",
       "  'fullText': 'Majority Leader, United States Senate, 2015-present'},\n",
       " {'title': 'Minority Leader',\n",
       "  'organization': 'United States Senate',\n",
       "  'span': '2006-2015',\n",
       "  'special': '',\n",
       "  'district': '',\n",
       "  'fullText': 'Minority Leader, United States Senate, 2006-2015'},\n",
       " {'title': 'Majority Whip',\n",
       "  'organization': 'United States Senate',\n",
       "  'span': '2002-2006',\n",
       "  'special': '',\n",
       "  'district': '',\n",
       "  'fullText': 'Majority Whip, United States Senate, 2002-2006'},\n",
       " {'title': 'Senator',\n",
       "  'organization': 'United States Senate',\n",
       "  'span': '1985-present',\n",
       "  'special': '',\n",
       "  'district': '',\n",
       "  'fullText': 'Senator, United States Senate, 1985-present'}]"
      ]
     },
     "execution_count": 40,
     "metadata": {},
     "output_type": "execute_result"
    }
   ],
   "source": [
    "bio['candidate']['political']['experience']"
   ]
  },
  {
   "cell_type": "markdown",
   "metadata": {},
   "source": [
    "#### bio > candidate > congMembership"
   ]
  },
  {
   "cell_type": "code",
   "execution_count": 41,
   "metadata": {},
   "outputs": [
    {
     "data": {
      "text/plain": [
       "dict_keys(['experience'])"
      ]
     },
     "execution_count": 41,
     "metadata": {},
     "output_type": "execute_result"
    }
   ],
   "source": [
    "bio['candidate']['congMembership'].keys()"
   ]
  },
  {
   "cell_type": "code",
   "execution_count": 42,
   "metadata": {},
   "outputs": [
    {
     "data": {
      "text/plain": [
       "[{'title': 'Chair',\n",
       "  'organization': 'National Republican Senatorial Committee',\n",
       "  'span': '1998, 2000',\n",
       "  'special': '',\n",
       "  'district': '',\n",
       "  'fullText': 'Chair, National Republican Senatorial Committee, 1998, 2000'},\n",
       " {'title': 'Chair',\n",
       "  'organization': 'Kentucky Task Force on Exploited and Missing Children',\n",
       "  'span': '1982',\n",
       "  'special': '',\n",
       "  'district': '',\n",
       "  'fullText': 'Chair, Kentucky Task Force on Exploited and Missing Children, 1982'},\n",
       " {'title': 'Founder',\n",
       "  'organization': 'Kentucky Task Force on Exploited and Missing Children',\n",
       "  'span': '1982',\n",
       "  'special': '',\n",
       "  'district': '',\n",
       "  'fullText': 'Founder, Kentucky Task Force on Exploited and Missing Children, 1982'},\n",
       " {'title': 'Member',\n",
       "  'organization': 'National Child Tragedies Coalition',\n",
       "  'span': '1981',\n",
       "  'special': '',\n",
       "  'district': '',\n",
       "  'fullText': 'Member, National Child Tragedies Coalition, 1981'},\n",
       " {'title': 'Vice Chair',\n",
       "  'organization': 'Ethics Study Commission',\n",
       "  'span': '',\n",
       "  'special': '',\n",
       "  'district': '',\n",
       "  'fullText': 'Vice Chair, Ethics Study Commission'},\n",
       " {'title': 'Former Member',\n",
       "  'organization': 'Livestock, Marketing, and Agriculture Security Subcommittee, United States Senate',\n",
       "  'span': '',\n",
       "  'special': '',\n",
       "  'district': '',\n",
       "  'fullText': 'Former Member, Livestock, Marketing, and Agriculture Security Subcommittee, United States Senate'},\n",
       " {'title': 'Former Member',\n",
       "  'organization': 'Select Committee on Intelligence, United States Senate',\n",
       "  'span': '',\n",
       "  'special': '',\n",
       "  'district': '',\n",
       "  'fullText': 'Former Member, Select Committee on Intelligence, United States Senate'},\n",
       " {'title': 'Former Member',\n",
       "  'organization': 'Conservation, Forestry, and Natural Resources Subcommittee, United States Senate',\n",
       "  'span': '',\n",
       "  'special': '',\n",
       "  'district': '',\n",
       "  'fullText': 'Former Member, Conservation, Forestry, and Natural Resources Subcommittee, United States Senate'},\n",
       " {'title': 'Member',\n",
       "  'organization': 'Tennessee Valley Authority Caucus',\n",
       "  'span': '',\n",
       "  'special': '',\n",
       "  'district': '',\n",
       "  'fullText': 'Member, Tennessee Valley Authority Caucus'}]"
      ]
     },
     "execution_count": 42,
     "metadata": {},
     "output_type": "execute_result"
    }
   ],
   "source": [
    "bio['candidate']['congMembership']['experience']"
   ]
  },
  {
   "cell_type": "markdown",
   "metadata": {},
   "source": [
    "#### bio > candidate > orgMembership"
   ]
  },
  {
   "cell_type": "code",
   "execution_count": 43,
   "metadata": {},
   "outputs": [
    {
     "data": {
      "text/plain": [
       "dict_keys(['experience'])"
      ]
     },
     "execution_count": 43,
     "metadata": {},
     "output_type": "execute_result"
    }
   ],
   "source": [
    "bio['candidate']['orgMembership'].keys()"
   ]
  },
  {
   "cell_type": "code",
   "execution_count": 44,
   "metadata": {},
   "outputs": [
    {
     "data": {
      "text/plain": [
       "[{'title': 'Member',\n",
       "  'organization': 'National Institute of Justice',\n",
       "  'span': '1982-1984',\n",
       "  'special': '',\n",
       "  'district': '',\n",
       "  'fullText': 'Member, National Institute of Justice, 1982-1984'},\n",
       " {'title': 'President',\n",
       "  'organization': 'Kentucky Association of County Judge/Executives',\n",
       "  'span': '1982',\n",
       "  'special': '',\n",
       "  'district': '',\n",
       "  'fullText': 'President, Kentucky Association of County Judge/Executives, 1982'},\n",
       " {'title': 'Member',\n",
       "  'organization': 'Kentucky Bar Association',\n",
       "  'span': '1967',\n",
       "  'special': '',\n",
       "  'district': '',\n",
       "  'fullText': 'Member, Kentucky Bar Association, 1967'},\n",
       " {'title': 'President',\n",
       "  'organization': 'University of Kentucky Student Bar Association',\n",
       "  'span': '',\n",
       "  'special': '',\n",
       "  'district': '',\n",
       "  'fullText': 'President, University of Kentucky Student Bar Association'},\n",
       " {'title': 'President',\n",
       "  'organization': 'University of Louisville Student Body',\n",
       "  'span': '',\n",
       "  'special': '',\n",
       "  'district': '',\n",
       "  'fullText': 'President, University of Louisville Student Body'}]"
      ]
     },
     "execution_count": 44,
     "metadata": {},
     "output_type": "execute_result"
    }
   ],
   "source": [
    "bio['candidate']['orgMembership']['experience']"
   ]
  },
  {
   "cell_type": "code",
   "execution_count": 45,
   "metadata": {},
   "outputs": [
    {
     "data": {
      "text/plain": [
       "dict_keys(['name', 'parties', 'title', 'shortTitle', 'type', 'status', 'firstElect', 'lastElect', 'nextElect', 'termStart', 'termEnd', 'district', 'districtId', 'stateId', 'committee'])"
      ]
     },
     "execution_count": 45,
     "metadata": {},
     "output_type": "execute_result"
    }
   ],
   "source": [
    "bio['office'].keys()"
   ]
  },
  {
   "cell_type": "code",
   "execution_count": 49,
   "metadata": {},
   "outputs": [
    {
     "name": "stdout",
     "output_type": "stream",
     "text": [
      "name: <class 'list'>\n",
      "parties: Republican\n",
      "title: Senator\n",
      "shortTitle: Sen.\n",
      "type: Congressional\n",
      "status: active\n",
      "firstElect: 11/06/1984\n",
      "lastElect: 11/04/2014\n",
      "nextElect: 2020\n",
      "termStart: 01/03/1985\n",
      "termEnd: \n",
      "district: Senior Seat\n",
      "districtId: 20508\n",
      "stateId: KY\n",
      "committee: <class 'list'>\n"
     ]
    }
   ],
   "source": [
    "for k, v in bio['office'].items():\n",
    "    if type(v) is str:\n",
    "        print(f'{k}: {v}')\n",
    "    else:\n",
    "        print(f'{k}: {type(v)}')"
   ]
  },
  {
   "cell_type": "code",
   "execution_count": 50,
   "metadata": {},
   "outputs": [
    {
     "data": {
      "text/plain": [
       "['U.S. Senate', 'U.S. Senate']"
      ]
     },
     "execution_count": 50,
     "metadata": {},
     "output_type": "execute_result"
    }
   ],
   "source": [
    "bio['office']['name']"
   ]
  },
  {
   "cell_type": "code",
   "execution_count": 51,
   "metadata": {},
   "outputs": [
    {
     "data": {
      "text/plain": [
       "[{'committeeId': '14073',\n",
       "  'committeeName': 'Agriculture, Nutrition and Forestry'},\n",
       " {'committeeId': '25', 'committeeName': 'Appropriations'},\n",
       " {'committeeId': '42', 'committeeName': 'Rules and Administration'},\n",
       " {'committeeId': '4064',\n",
       "  'committeeName': 'Subcommittee on Agriculture, Rural Development, Food and Drug Administration, and Related Agencies'},\n",
       " {'committeeId': '13907',\n",
       "  'committeeName': 'Subcommittee on Commodities, Risk Management and Trade'},\n",
       " {'committeeId': '4066', 'committeeName': 'Subcommittee on Defense'},\n",
       " {'committeeId': '4067',\n",
       "  'committeeName': 'Subcommittee on Energy nd Water Development'},\n",
       " {'committeeId': '4070',\n",
       "  'committeeName': 'Subcommittee on Interior, Environment, and Related Agencies'},\n",
       " {'committeeId': '4073',\n",
       "  'committeeName': 'Subcommittee on Military Construction, Veterans Affairs, and Related Agencies'},\n",
       " {'committeeId': '13911',\n",
       "  'committeeName': 'Subcommittee on Nutrition, Agricultural Research, and Specialty Crops'},\n",
       " {'committeeId': '14467',\n",
       "  'committeeName': 'Subcommittee on Rural Development and Energy'},\n",
       " {'committeeId': '4074',\n",
       "  'committeeName': 'Subcommittee on State, Foreign Operations, and Related Programs'}]"
      ]
     },
     "execution_count": 51,
     "metadata": {},
     "output_type": "execute_result"
    }
   ],
   "source": [
    "bio['office']['committee']"
   ]
  },
  {
   "cell_type": "code",
   "execution_count": 104,
   "metadata": {},
   "outputs": [],
   "source": [
    "def flatten_other(other, pref):\n",
    "    print('other:')\n",
    "    print(other)\n",
    "    out = {}\n",
    "    ignore = ['fullText']\n",
    "    exp = other['experience']\n",
    "    for e in exp:\n",
    "        for k, v in e.items():\n",
    "            if k in ignore:\n",
    "                continue\n",
    "            k_adj = f'{pref}_{k}'\n",
    "            if k_adj in out:\n",
    "                out[k_adj].append(v)\n",
    "            else:\n",
    "                out[k_adj] = [v]\n",
    "    return out"
   ]
  },
  {
   "cell_type": "code",
   "execution_count": 105,
   "metadata": {},
   "outputs": [],
   "source": [
    "def flatten_education(education, pref):\n",
    "    out = {}\n",
    "    ignore = ['fullText']\n",
    "    institutions = education['institution']\n",
    "    for inst in institutions:\n",
    "        for k, v in inst.items():\n",
    "            if k in ignore:\n",
    "                continue\n",
    "            k_adj = f'{pref}_{k}'\n",
    "            if k_adj in out:\n",
    "                out[k_adj].append(v)\n",
    "            else:\n",
    "                out[k_adj] = [v]\n",
    "    return out"
   ]
  },
  {
   "cell_type": "code",
   "execution_count": 106,
   "metadata": {},
   "outputs": [],
   "source": [
    "def flatten_candidate(candidate):\n",
    "    out = {}\n",
    "    ignore = ['pronunciation']\n",
    "    flatteners = {'education': flatten_education}\n",
    "    prefixes = {'education': 'edu',\n",
    "                'profession': 'prof',\n",
    "                'political': 'pol',\n",
    "                'congMembership': 'cong_mem',\n",
    "                'orgMembership': 'org_mem'}\n",
    "    for k, v in candidate.items():\n",
    "        if k in ignore:\n",
    "            continue\n",
    "        if type(v) is str:\n",
    "            out[k] = v\n",
    "        else:\n",
    "            prefix = prefixes[k]\n",
    "            subsection = flatteners.get(k, flatten_other)(v, pref=prefix)\n",
    "            out.update(subsection)\n",
    "    return out"
   ]
  },
  {
   "cell_type": "code",
   "execution_count": 107,
   "metadata": {
    "scrolled": false
   },
   "outputs": [
    {
     "name": "stdout",
     "output_type": "stream",
     "text": [
      "other:\n",
      "{'experience': [{'title': 'Judge-Executive', 'organization': 'Jefferson County', 'span': '1978-1985', 'special': '', 'district': '', 'fullText': 'Judge-Executive, Jefferson County, 1978-1985'}, {'title': 'Acting Assistant', 'organization': 'United States Attorney General', 'span': '1975', 'special': '', 'district': '', 'fullText': 'Acting Assistant, United States Attorney General, 1975'}, {'title': 'Deputy Assistant', 'organization': 'United States Attorney General', 'span': '1974-1975', 'special': '', 'district': '', 'fullText': 'Deputy Assistant, United States Attorney General, 1974-1975'}, {'title': 'Chief Legislative Assistant', 'organization': 'United States Senator Marlow Cook', 'span': '1968-1970', 'special': '', 'district': '', 'fullText': 'Chief Legislative Assistant, United States Senator Marlow Cook, 1968-1970'}, {'title': 'Intern', 'organization': 'Senator John Sherman Cooper', 'span': '', 'special': '', 'district': '', 'fullText': 'Intern, Senator John Sherman Cooper'}]}\n",
      "other:\n",
      "{'experience': [{'title': 'Majority Leader', 'organization': 'United States Senate', 'span': '2015-present', 'special': '', 'district': '', 'fullText': 'Majority Leader, United States Senate, 2015-present'}, {'title': 'Minority Leader', 'organization': 'United States Senate', 'span': '2006-2015', 'special': '', 'district': '', 'fullText': 'Minority Leader, United States Senate, 2006-2015'}, {'title': 'Majority Whip', 'organization': 'United States Senate', 'span': '2002-2006', 'special': '', 'district': '', 'fullText': 'Majority Whip, United States Senate, 2002-2006'}, {'title': 'Senator', 'organization': 'United States Senate', 'span': '1985-present', 'special': '', 'district': '', 'fullText': 'Senator, United States Senate, 1985-present'}]}\n",
      "other:\n",
      "{'experience': [{'title': 'Chair', 'organization': 'National Republican Senatorial Committee', 'span': '1998, 2000', 'special': '', 'district': '', 'fullText': 'Chair, National Republican Senatorial Committee, 1998, 2000'}, {'title': 'Chair', 'organization': 'Kentucky Task Force on Exploited and Missing Children', 'span': '1982', 'special': '', 'district': '', 'fullText': 'Chair, Kentucky Task Force on Exploited and Missing Children, 1982'}, {'title': 'Founder', 'organization': 'Kentucky Task Force on Exploited and Missing Children', 'span': '1982', 'special': '', 'district': '', 'fullText': 'Founder, Kentucky Task Force on Exploited and Missing Children, 1982'}, {'title': 'Member', 'organization': 'National Child Tragedies Coalition', 'span': '1981', 'special': '', 'district': '', 'fullText': 'Member, National Child Tragedies Coalition, 1981'}, {'title': 'Vice Chair', 'organization': 'Ethics Study Commission', 'span': '', 'special': '', 'district': '', 'fullText': 'Vice Chair, Ethics Study Commission'}, {'title': 'Former Member', 'organization': 'Livestock, Marketing, and Agriculture Security Subcommittee, United States Senate', 'span': '', 'special': '', 'district': '', 'fullText': 'Former Member, Livestock, Marketing, and Agriculture Security Subcommittee, United States Senate'}, {'title': 'Former Member', 'organization': 'Select Committee on Intelligence, United States Senate', 'span': '', 'special': '', 'district': '', 'fullText': 'Former Member, Select Committee on Intelligence, United States Senate'}, {'title': 'Former Member', 'organization': 'Conservation, Forestry, and Natural Resources Subcommittee, United States Senate', 'span': '', 'special': '', 'district': '', 'fullText': 'Former Member, Conservation, Forestry, and Natural Resources Subcommittee, United States Senate'}, {'title': 'Member', 'organization': 'Tennessee Valley Authority Caucus', 'span': '', 'special': '', 'district': '', 'fullText': 'Member, Tennessee Valley Authority Caucus'}]}\n",
      "other:\n",
      "{'experience': [{'title': 'Member', 'organization': 'National Institute of Justice', 'span': '1982-1984', 'special': '', 'district': '', 'fullText': 'Member, National Institute of Justice, 1982-1984'}, {'title': 'President', 'organization': 'Kentucky Association of County Judge/Executives', 'span': '1982', 'special': '', 'district': '', 'fullText': 'President, Kentucky Association of County Judge/Executives, 1982'}, {'title': 'Member', 'organization': 'Kentucky Bar Association', 'span': '1967', 'special': '', 'district': '', 'fullText': 'Member, Kentucky Bar Association, 1967'}, {'title': 'President', 'organization': 'University of Kentucky Student Bar Association', 'span': '', 'special': '', 'district': '', 'fullText': 'President, University of Kentucky Student Bar Association'}, {'title': 'President', 'organization': 'University of Louisville Student Body', 'span': '', 'special': '', 'district': '', 'fullText': 'President, University of Louisville Student Body'}]}\n",
      "\n",
      "\n",
      "Test:\n",
      "{'candidateId': '53298', 'crpId': 'N00003389', 'photo': 'https://static.votesmart.org/canphoto/53298.jpg', 'firstName': 'Mitch', 'nickName': '', 'middleName': '', 'preferredName': 'Mitch', 'lastName': 'McConnell', 'suffix': '', 'birthDate': '02/20/1942', 'birthPlace': 'Sheffield, AL', 'gender': 'Male', 'family': 'Wife: Elaine Chao; 3 Children: Elly, Claire, Porter', 'homeCity': 'Louisville', 'homeState': 'KY', 'edu_degree': ['JD', 'BA'], 'edu_field': ['', ''], 'edu_school': ['University of Kentucky Law School', 'University of Louisville'], 'edu_span': ['1967', '1964'], 'edu_gpa': ['', ''], 'prof_title': ['Judge-Executive', 'Acting Assistant', 'Deputy Assistant', 'Chief Legislative Assistant', 'Intern'], 'prof_organization': ['Jefferson County', 'United States Attorney General', 'United States Attorney General', 'United States Senator Marlow Cook', 'Senator John Sherman Cooper'], 'prof_span': ['1978-1985', '1975', '1974-1975', '1968-1970', ''], 'prof_special': ['', '', '', '', ''], 'prof_district': ['', '', '', '', ''], 'pol_title': ['Majority Leader', 'Minority Leader', 'Majority Whip', 'Senator'], 'pol_organization': ['United States Senate', 'United States Senate', 'United States Senate', 'United States Senate'], 'pol_span': ['2015-present', '2006-2015', '2002-2006', '1985-present'], 'pol_special': ['', '', '', ''], 'pol_district': ['', '', '', ''], 'cong_mem_title': ['Chair', 'Chair', 'Founder', 'Member', 'Vice Chair', 'Former Member', 'Former Member', 'Former Member', 'Member'], 'cong_mem_organization': ['National Republican Senatorial Committee', 'Kentucky Task Force on Exploited and Missing Children', 'Kentucky Task Force on Exploited and Missing Children', 'National Child Tragedies Coalition', 'Ethics Study Commission', 'Livestock, Marketing, and Agriculture Security Subcommittee, United States Senate', 'Select Committee on Intelligence, United States Senate', 'Conservation, Forestry, and Natural Resources Subcommittee, United States Senate', 'Tennessee Valley Authority Caucus'], 'cong_mem_span': ['1998, 2000', '1982', '1982', '1981', '', '', '', '', ''], 'cong_mem_special': ['', '', '', '', '', '', '', '', ''], 'cong_mem_district': ['', '', '', '', '', '', '', '', ''], 'org_mem_title': ['Member', 'President', 'Member', 'President', 'President'], 'org_mem_organization': ['National Institute of Justice', 'Kentucky Association of County Judge/Executives', 'Kentucky Bar Association', 'University of Kentucky Student Bar Association', 'University of Louisville Student Body'], 'org_mem_span': ['1982-1984', '1982', '1967', '', ''], 'org_mem_special': ['', '', '', '', ''], 'org_mem_district': ['', '', '', '', ''], 'religion': 'Baptist', 'specialMsg': ''}\n"
     ]
    }
   ],
   "source": [
    "def senator_to_df(senator_bio):\n",
    "    out = {}\n",
    "    candidate = senator_bio['candidate']\n",
    "    candidate = flatten_candidate(candidate)\n",
    "    out.update(candidate)\n",
    "    \n",
    "    # CONTINUE HERE:\n",
    "    office = senator_bio['office']\n",
    "    #office = flatten_office(office)\n",
    "    #out.update(office)\n",
    "    \n",
    "    return out\n",
    "    \n",
    "mitch_bio = senator_bios[MITCH_ID]['bio']    \n",
    "test = senator_to_df(mitch_bio)\n",
    "print('\\n\\nTest:')\n",
    "print(test)"
   ]
  },
  {
   "cell_type": "code",
   "execution_count": null,
   "metadata": {},
   "outputs": [],
   "source": []
  },
  {
   "cell_type": "code",
   "execution_count": null,
   "metadata": {},
   "outputs": [],
   "source": []
  }
 ],
 "metadata": {
  "kernelspec": {
   "display_name": "Python 3",
   "language": "python",
   "name": "python3"
  },
  "language_info": {
   "codemirror_mode": {
    "name": "ipython",
    "version": 3
   },
   "file_extension": ".py",
   "mimetype": "text/x-python",
   "name": "python",
   "nbconvert_exporter": "python",
   "pygments_lexer": "ipython3",
   "version": "3.7.5"
  }
 },
 "nbformat": 4,
 "nbformat_minor": 2
}
